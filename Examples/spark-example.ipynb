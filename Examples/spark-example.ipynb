{
 "cells": [
  {
   "cell_type": "markdown",
   "id": "2a325dbc-e30d-4e9b-adcb-238117c2475f",
   "metadata": {},
   "source": [
    "## Introduction\n",
    "The purpose of this notebook is to demonstrate the capability to integrate MongoDB data with Apache Spark and demonstrate the following features:\n",
    "* loading data\n",
    "* ETL\n",
    "* SQL Queries\n",
    "\n",
    "## Setup the environment\n",
    "Let's start to setup the environment by importing the necessary libraries."
   ]
  },
  {
   "cell_type": "code",
   "execution_count": 11,
   "id": "3056ba41-c98b-47e8-8955-9e7a86034d68",
   "metadata": {},
   "outputs": [],
   "source": [
    "# Import all the necessary libraries\n",
    "from pyspark.sql import SparkSession\n",
    "from pyspark.sql.window import Window\n",
    "from pyspark.sql import functions as F"
   ]
  },
  {
   "cell_type": "markdown",
   "id": "78155aec-e408-4921-b2d2-e228c80621cc",
   "metadata": {},
   "source": [
    "Lets create the Spark session using MongoDB Spark Connector"
   ]
  },
  {
   "cell_type": "code",
   "execution_count": 3,
   "id": "9ca37ac7-6c68-4029-aef6-cd0c37f26558",
   "metadata": {},
   "outputs": [],
   "source": [
    "spark = SparkSession.\\\n",
    "        builder.\\\n",
    "        appName(\"pyspark-spark-example\").\\\n",
    "        master(\"spark://spark-master:7077\").\\\n",
    "        config(\"spark.executor.memory\", \"1g\").\\\n",
    "        config(\"spark.mongodb.input.uri\",\"mongodb://mongo1:27017,mongo2:27018,mongo3:27019/Stocks.Source?replicaSet=rs0\").\\\n",
    "        config(\"spark.mongodb.output.uri\",\"mongodb://mongo1:27017,mongo2:27018,mongo3:27019/Stocks.Source?replicaSet=rs0\").\\\n",
    "        config(\"spark.jars.packages\", \"org.mongodb.spark:mongo-spark-connector_2.12:3.0.0\").\\\n",
    "        getOrCreate()"
   ]
  },
  {
   "cell_type": "markdown",
   "id": "b9b892f2-a8cb-4c3a-86ee-c1b99189211a",
   "metadata": {},
   "source": [
    "## Data visualization\n",
    "We first start by loading the dataframes from Apache Spark to MongoDB"
   ]
  },
  {
   "cell_type": "code",
   "execution_count": 4,
   "id": "fdb42063-75cb-4361-aa10-2fe3a9702452",
   "metadata": {},
   "outputs": [],
   "source": [
    "df = spark.read.format(\"mongo\").load()"
   ]
  },
  {
   "cell_type": "markdown",
   "id": "2aa36f8e-6e46-452c-80dd-93bb09f2f39b",
   "metadata": {},
   "source": [
    "Let’s verify the data was loaded by looking at the schema:"
   ]
  },
  {
   "cell_type": "code",
   "execution_count": 5,
   "id": "0b91af2d-ff5c-4bd0-bd78-d8d07670695c",
   "metadata": {},
   "outputs": [
    {
     "name": "stdout",
     "output_type": "stream",
     "text": [
      "root\n",
      " |-- _id: struct (nullable = true)\n",
      " |    |-- oid: string (nullable = true)\n",
      " |-- company_name: string (nullable = true)\n",
      " |-- company_symbol: string (nullable = true)\n",
      " |-- price: double (nullable = true)\n",
      " |-- tx_time: string (nullable = true)\n",
      "\n"
     ]
    }
   ],
   "source": [
    "df.printSchema()"
   ]
  },
  {
   "cell_type": "markdown",
   "id": "7e83db4f-a964-42d7-be42-abc9ec7f225f",
   "metadata": {},
   "source": [
    "We can see that the tx_time field is loaded as a string.  We can easily convert this to a time by issuing a cast statement:"
   ]
  },
  {
   "cell_type": "code",
   "execution_count": 8,
   "id": "53c2b14d-b023-430d-a0c0-407439ceb1ed",
   "metadata": {},
   "outputs": [
    {
     "name": "stdout",
     "output_type": "stream",
     "text": [
      "root\n",
      " |-- _id: struct (nullable = true)\n",
      " |    |-- oid: string (nullable = true)\n",
      " |-- company_name: string (nullable = true)\n",
      " |-- company_symbol: string (nullable = true)\n",
      " |-- price: double (nullable = true)\n",
      " |-- tx_time: timestamp (nullable = true)\n",
      "\n"
     ]
    }
   ],
   "source": [
    "df = df.withColumn('tx_time', df.tx_time.cast('timestamp'))\n",
    "df.printSchema()"
   ]
  },
  {
   "cell_type": "markdown",
   "id": "c25c18a5-2db8-4f60-8fb5-d91dd507ec0a",
   "metadata": {},
   "source": [
    "Next, we can add a new ‘movingAverage’ column that will show a moving average based upon the previous value in the dataset.  To do this we leverage the PySpark Window function as follows:"
   ]
  },
  {
   "cell_type": "code",
   "execution_count": 12,
   "id": "04fcc33d-3eab-4e7f-86a2-4772373f0e65",
   "metadata": {},
   "outputs": [],
   "source": [
    "movAvg = df.withColumn(\"movingAverage\", F.avg(\"price\")\n",
    "             .over( Window.partitionBy(\"company_symbol\").rowsBetween(-1,1)) )"
   ]
  },
  {
   "cell_type": "markdown",
   "id": "7f69c772-d7a5-43a7-89dc-ad8283c29bc7",
   "metadata": {},
   "source": [
    "To see our data with the new moving average column we can issue a show command."
   ]
  },
  {
   "cell_type": "code",
   "execution_count": 13,
   "id": "70465972-156c-4d32-ae51-e48b1a72e365",
   "metadata": {},
   "outputs": [
    {
     "name": "stdout",
     "output_type": "stream",
     "text": [
      "+--------------------+--------------------+--------------+-----+-------------------+------------------+\n",
      "|                 _id|        company_name|company_symbol|price|            tx_time|     movingAverage|\n",
      "+--------------------+--------------------+--------------+-----+-------------------+------------------+\n",
      "|{5f527ac22f6a1552...|ITCHY ACRE CORPOR...|           IAC|43.38|2020-09-04 13:34:58|43.385000000000005|\n",
      "|{5f527ac32f6a1552...|ITCHY ACRE CORPOR...|           IAC|43.39|2020-09-04 13:34:59| 43.39666666666667|\n",
      "|{5f527ac42f6a1552...|ITCHY ACRE CORPOR...|           IAC|43.42|2020-09-04 13:35:00|43.419999999999995|\n",
      "|{5f527ac52f6a1552...|ITCHY ACRE CORPOR...|           IAC|43.45|2020-09-04 13:35:01|43.443333333333335|\n",
      "|{5f527ac62f6a1552...|ITCHY ACRE CORPOR...|           IAC|43.46|2020-09-04 13:35:02|             43.46|\n",
      "|{5f527ac72f6a1552...|ITCHY ACRE CORPOR...|           IAC|43.47|2020-09-04 13:35:03| 43.47666666666667|\n",
      "|{5f527ac82f6a1552...|ITCHY ACRE CORPOR...|           IAC| 43.5|2020-09-04 13:35:04| 43.49666666666667|\n",
      "|{5f527ac92f6a1552...|ITCHY ACRE CORPOR...|           IAC|43.52|2020-09-04 13:35:05|             43.52|\n",
      "|{5f527aca2f6a1552...|ITCHY ACRE CORPOR...|           IAC|43.54|2020-09-04 13:35:06| 43.53666666666667|\n",
      "|{5f527acb2f6a1552...|ITCHY ACRE CORPOR...|           IAC|43.55|2020-09-04 13:35:07|             43.54|\n",
      "|{5f527acc2f6a1552...|ITCHY ACRE CORPOR...|           IAC|43.53|2020-09-04 13:35:08| 43.53666666666667|\n",
      "|{5f527acd2f6a1552...|ITCHY ACRE CORPOR...|           IAC|43.53|2020-09-04 13:35:09|             43.53|\n",
      "|{5f527ace2f6a1552...|ITCHY ACRE CORPOR...|           IAC|43.53|2020-09-04 13:35:10| 43.53333333333333|\n",
      "|{5f527acf2f6a1552...|ITCHY ACRE CORPOR...|           IAC|43.54|2020-09-04 13:35:11|43.526666666666664|\n",
      "|{5f527ad02f6a1552...|ITCHY ACRE CORPOR...|           IAC|43.51|2020-09-04 13:35:12| 43.52333333333333|\n",
      "|{5f527ad22f6a1552...|ITCHY ACRE CORPOR...|           IAC|43.52|2020-09-04 13:35:14| 43.51333333333333|\n",
      "|{5f527ad32f6a1552...|ITCHY ACRE CORPOR...|           IAC|43.51|2020-09-04 13:35:15|              43.5|\n",
      "|{5f527ad42f6a1552...|ITCHY ACRE CORPOR...|           IAC|43.47|2020-09-04 13:35:16| 43.48333333333333|\n",
      "|{5f527ad52f6a1552...|ITCHY ACRE CORPOR...|           IAC|43.47|2020-09-04 13:35:17|             43.48|\n",
      "|{5f527ad62f6a1552...|ITCHY ACRE CORPOR...|           IAC| 43.5|2020-09-04 13:35:18|             43.49|\n",
      "+--------------------+--------------------+--------------+-----+-------------------+------------------+\n",
      "only showing top 20 rows\n",
      "\n"
     ]
    }
   ],
   "source": [
    "movAvg.show()"
   ]
  },
  {
   "cell_type": "markdown",
   "id": "c86e1cda-9d93-462c-8dcd-22038db63720",
   "metadata": {},
   "source": [
    "## Data manipulation with MongoDB\n",
    "To update the data in our MongoDB cluster, we use the save method."
   ]
  },
  {
   "cell_type": "code",
   "execution_count": 14,
   "id": "cb0d245f-b4fc-4afa-a153-4ddb52fc5afa",
   "metadata": {},
   "outputs": [],
   "source": [
    "movAvg.write.format(\"mongo\").option(\"replaceDocument\", \"true\").mode(\"append\").save()"
   ]
  },
  {
   "cell_type": "markdown",
   "id": "960b9e5f-9c7e-4b1c-b901-275bb8644ec7",
   "metadata": {},
   "source": [
    "We can also use the power of the MongoDB Aggregation Framework to pre-filter, sort or aggregate our MongoDB data by displaying the most expensices products."
   ]
  },
  {
   "cell_type": "code",
   "execution_count": 20,
   "id": "1e042161-80ea-4e63-a3ef-e19ebe275f36",
   "metadata": {},
   "outputs": [
    {
     "name": "stdout",
     "output_type": "stream",
     "text": [
      "+--------------------+--------+\n",
      "|                 _id|maxprice|\n",
      "+--------------------+--------+\n",
      "|FRUSTRATING CHAOS...|    87.6|\n",
      "|HOMELY KIOSK UNLI...|   86.48|\n",
      "| CREEPY GIT HOLDINGS|    83.4|\n",
      "|GREASY CHAMPION C...|   81.76|\n",
      "|COMBATIVE TOWNSHI...|   72.18|\n",
      "|FROTHY MIDNIGHT P...|   66.81|\n",
      "|ITCHY ACRE CORPOR...|   44.42|\n",
      "|LACKADAISICAL SAV...|   42.34|\n",
      "|CORNY PRACTITIONE...|   38.55|\n",
      "|TRITE JACKFRUIT P...|   22.62|\n",
      "+--------------------+--------+\n",
      "\n"
     ]
    }
   ],
   "source": [
    "pipeline = \"[{'$group': {_id:'$company_name', 'maxprice': {$max:'$price'}}},{$sort:{'maxprice':-1}}]\"\n",
    "\n",
    "aggPipelineDF = spark.read.format(\"mongo\").option(\"pipeline\", pipeline).option(\"partitioner\", \"MongoSinglePartitioner\").load()\n",
    "aggPipelineDF.show()"
   ]
  },
  {
   "cell_type": "markdown",
   "id": "4e42d49e-f538-4381-81a2-8df01e5e8161",
   "metadata": {},
   "source": [
    "Finally we can use SparkSQL to issue ANSI-compliant SQL against MongoDB data as follows:"
   ]
  },
  {
   "cell_type": "code",
   "execution_count": 21,
   "id": "876c5898-8647-4477-b71a-5b62445c3c20",
   "metadata": {},
   "outputs": [
    {
     "name": "stdout",
     "output_type": "stream",
     "text": [
      "+--------------------+--------------------+--------------+-----+-------+------------------+\n",
      "|                 _id|        company_name|company_symbol|price|tx_time|     movingAverage|\n",
      "+--------------------+--------------------+--------------+-----+-------+------------------+\n",
      "|{5f527ac22f6a1552...|ITCHY ACRE CORPOR...|           IAC|43.38|   null|43.385000000000005|\n",
      "|{5f527ac32f6a1552...|ITCHY ACRE CORPOR...|           IAC|43.39|   null| 43.39666666666667|\n",
      "|{5f527ac42f6a1552...|ITCHY ACRE CORPOR...|           IAC|43.42|   null|43.419999999999995|\n",
      "|{5f527ac52f6a1552...|ITCHY ACRE CORPOR...|           IAC|43.45|   null|43.443333333333335|\n",
      "|{5f527ac62f6a1552...|ITCHY ACRE CORPOR...|           IAC|43.46|   null|             43.46|\n",
      "|{5f527ac72f6a1552...|ITCHY ACRE CORPOR...|           IAC|43.47|   null| 43.47666666666667|\n",
      "|{5f527ac82f6a1552...|ITCHY ACRE CORPOR...|           IAC| 43.5|   null| 43.49666666666667|\n",
      "|{5f527ac92f6a1552...|ITCHY ACRE CORPOR...|           IAC|43.52|   null|             43.52|\n",
      "|{5f527aca2f6a1552...|ITCHY ACRE CORPOR...|           IAC|43.54|   null| 43.53666666666667|\n",
      "|{5f527acb2f6a1552...|ITCHY ACRE CORPOR...|           IAC|43.55|   null|             43.54|\n",
      "|{5f527acc2f6a1552...|ITCHY ACRE CORPOR...|           IAC|43.53|   null| 43.53666666666667|\n",
      "|{5f527acd2f6a1552...|ITCHY ACRE CORPOR...|           IAC|43.53|   null|             43.53|\n",
      "|{5f527ace2f6a1552...|ITCHY ACRE CORPOR...|           IAC|43.53|   null| 43.53333333333333|\n",
      "|{5f527acf2f6a1552...|ITCHY ACRE CORPOR...|           IAC|43.54|   null|43.526666666666664|\n",
      "|{5f527ad02f6a1552...|ITCHY ACRE CORPOR...|           IAC|43.51|   null| 43.52333333333333|\n",
      "|{5f527ad22f6a1552...|ITCHY ACRE CORPOR...|           IAC|43.52|   null| 43.51333333333333|\n",
      "|{5f527ad32f6a1552...|ITCHY ACRE CORPOR...|           IAC|43.51|   null|              43.5|\n",
      "|{5f527ad42f6a1552...|ITCHY ACRE CORPOR...|           IAC|43.47|   null| 43.48333333333333|\n",
      "|{5f527ad52f6a1552...|ITCHY ACRE CORPOR...|           IAC|43.47|   null|             43.48|\n",
      "|{5f527ad62f6a1552...|ITCHY ACRE CORPOR...|           IAC| 43.5|   null|             43.49|\n",
      "+--------------------+--------------------+--------------+-----+-------+------------------+\n",
      "only showing top 20 rows\n",
      "\n"
     ]
    }
   ],
   "source": [
    "movAvg.createOrReplaceTempView(\"avgs\")\n",
    "sqlDF=spark.sql(\"SELECT * FROM avgs WHERE movingAverage > 43.0\")\n",
    "sqlDF.show()"
   ]
  }
 ],
 "metadata": {
  "kernelspec": {
   "display_name": "Python 3",
   "language": "python",
   "name": "python3"
  },
  "language_info": {
   "codemirror_mode": {
    "name": "ipython",
    "version": 3
   },
   "file_extension": ".py",
   "mimetype": "text/x-python",
   "name": "python",
   "nbconvert_exporter": "python",
   "pygments_lexer": "ipython3",
   "version": "3.9.4"
  }
 },
 "nbformat": 4,
 "nbformat_minor": 5
}
